{
 "cells": [
  {
   "cell_type": "code",
   "execution_count": 16,
   "metadata": {},
   "outputs": [],
   "source": [
    "from py2neo import Graph"
   ]
  },
  {
   "cell_type": "code",
   "execution_count": 17,
   "metadata": {},
   "outputs": [],
   "source": [
    "graph = Graph(\"bolt://localhost:7687\", auth=(\"neo4j\", \"test\"))"
   ]
  },
  {
   "cell_type": "code",
   "execution_count": 29,
   "metadata": {},
   "outputs": [
    {
     "data": {
      "text/html": [
       "<table><tr><th>n</th></tr><tr><td style=\"text-align:left\">(_0:User {userBio: &#039;amanda designer&#039;, userEmail: &#039;amanda@gmail.com&#039;, userFirstName: &#039;amanda&#039;, userGender: &#039;w&#039;, userHandle: &#039;@amanda_styles&#039;, userId: &#039;1&#039;, userLastName: &#039;styles&#039;, userPassword: &#039;amanda&#039;, userProfile_BG: &#039;./shayla_sparks/Profile and Background Image/Shayla Sparks/shayla_sparks_fg.jpg&#039;, userProfile_FG: &#039;./shayla_sparks/Profile and Background Image/Shayla Sparks/shayla_sparks_bg.jpg&#039;, userSiteName: &#039;Official Amanda&#039;})</td></tr><tr><td style=\"text-align:left\">(_1:User {userBio: &#039;ben designer&#039;, userEmail: &#039;ben@gmail.com&#039;, userFirstName: &#039;ben&#039;, userGender: &#039;m&#039;, userHandle: &#039;@ben_phics&#039;, userId: &#039;2&#039;, userLastName: &#039;phics&#039;, userPassword: &#039;ben&#039;, userProfile_BG: &#039;./ben_phics/Profile and Background Image/Ben Phics/ben_phics_bg.jpg&#039;, userProfile_FG: &#039;./ben_phics/Profile and Background Image/Ben Phics/ben_phics_fg.jpg&#039;, userSiteName: &#039;Official Ben&#039;})</td></tr><tr><td style=\"text-align:left\">(_2:User {userBio: &#039;emrys photography&#039;, userEmail: &#039;emrys@gmail.com&#039;, userFirstName: &#039;emrys&#039;, userGender: &#039;w&#039;, userHandle: &#039;@emrys_lynch&#039;, userId: &#039;3&#039;, userLastName: &#039;lynch&#039;, userPassword: &#039;emrys&#039;, userProfile_BG: &#039;./emrys_lynch/Profile and Background Image/PROFILE AND BACKGROUND/emrys_lynch_bg.jpg&#039;, userProfile_FG: &#039;./emrys_lynch/Profile and Background Image/PROFILE AND BACKGROUND/emrys_lynch_fg.jpg&#039;, userSiteName: &#039;Official Emrys&#039;})</td></tr><tr><td style=\"text-align:left\">(_3:User {userBio: &#039;lola photography&#039;, userEmail: &#039;lola@gmail.com&#039;, userFirstName: &#039;lola &#039;, userGender: &#039;w&#039;, userHandle: &#039;@lola_lake&#039;, userId: &#039;4&#039;, userLastName: &#039;lake&#039;, userPassword: &#039;lola &#039;, userProfile_BG: &#039;./lola_lake/Profile and Background Images/Lola Lake/lola_lake_bg.jpg&#039;, userProfile_FG: &#039;./lola_lake/Profile and Background Images/Lola Lake/lola_lake_fg.jpg&#039;, userSiteName: &#039;Official Lake&#039;})</td></tr><tr><td style=\"text-align:left\">(_4:User {userBio: &#039;lexi  designer&#039;, userEmail: &#039;lexi@gmail.com&#039;, userFirstName: &#039;lexi &#039;, userGender: &#039;w&#039;, userHandle: &#039;@lexi_vo&#039;, userId: &#039;5&#039;, userLastName: &#039;vo&#039;, userPassword: &#039;lexi &#039;, userProfile_BG: &#039;./lexi_vo/Profile and Background Image/Lexi Vo/lexi_vo_bg.jpg&#039;, userProfile_FG: &#039;./lexi_vo/Profile and Background Image/Lexi Vo/lexi_vo_fg.jpg&#039;, userSiteName: &#039;Official Lexi&#039;})</td></tr></table>"
      ],
      "text/plain": [
       " n                                                                                                                                                                                                                                                                                                                                                                                                                                                      \n",
       "--------------------------------------------------------------------------------------------------------------------------------------------------------------------------------------------------------------------------------------------------------------------------------------------------------------------------------------------------------------------------------------------------------------------------------------------------------\n",
       " (_0:User {userBio: 'amanda designer', userEmail: 'amanda@gmail.com', userFirstName: 'amanda', userGender: 'w', userHandle: '@amanda_styles', userId: '1', userLastName: 'styles', userPassword: 'amanda', userProfile_BG: './shayla_sparks/Profile and Background Image/Shayla Sparks/shayla_sparks_fg.jpg', userProfile_FG: './shayla_sparks/Profile and Background Image/Shayla Sparks/shayla_sparks_bg.jpg', userSiteName: 'Official Amanda'})      \n",
       " (_1:User {userBio: 'ben designer', userEmail: 'ben@gmail.com', userFirstName: 'ben', userGender: 'm', userHandle: '@ben_phics', userId: '2', userLastName: 'phics', userPassword: 'ben', userProfile_BG: './ben_phics/Profile and Background Image/Ben Phics/ben_phics_bg.jpg', userProfile_FG: './ben_phics/Profile and Background Image/Ben Phics/ben_phics_fg.jpg', userSiteName: 'Official Ben'})                                                  \n",
       " (_2:User {userBio: 'emrys photography', userEmail: 'emrys@gmail.com', userFirstName: 'emrys', userGender: 'w', userHandle: '@emrys_lynch', userId: '3', userLastName: 'lynch', userPassword: 'emrys', userProfile_BG: './emrys_lynch/Profile and Background Image/PROFILE AND BACKGROUND/emrys_lynch_bg.jpg', userProfile_FG: './emrys_lynch/Profile and Background Image/PROFILE AND BACKGROUND/emrys_lynch_fg.jpg', userSiteName: 'Official Emrys'}) \n",
       " (_3:User {userBio: 'lola photography', userEmail: 'lola@gmail.com', userFirstName: 'lola ', userGender: 'w', userHandle: '@lola_lake', userId: '4', userLastName: 'lake', userPassword: 'lola ', userProfile_BG: './lola_lake/Profile and Background Images/Lola Lake/lola_lake_bg.jpg', userProfile_FG: './lola_lake/Profile and Background Images/Lola Lake/lola_lake_fg.jpg', userSiteName: 'Official Lake'})                                       \n",
       " (_4:User {userBio: 'lexi  designer', userEmail: 'lexi@gmail.com', userFirstName: 'lexi ', userGender: 'w', userHandle: '@lexi_vo', userId: '5', userLastName: 'vo', userPassword: 'lexi ', userProfile_BG: './lexi_vo/Profile and Background Image/Lexi Vo/lexi_vo_bg.jpg', userProfile_FG: './lexi_vo/Profile and Background Image/Lexi Vo/lexi_vo_fg.jpg', userSiteName: 'Official Lexi'})                                                           "
      ]
     },
     "execution_count": 29,
     "metadata": {},
     "output_type": "execute_result"
    }
   ],
   "source": [
    "graph.run(\"MATCH (n) RETURN n LIMIT 5\").to_table()"
   ]
  },
  {
   "cell_type": "code",
   "execution_count": 22,
   "metadata": {},
   "outputs": [
    {
     "data": {
      "text/plain": [
       "['@amanda_styles', '@ben_phics', '@emrys_lynch']"
      ]
     },
     "execution_count": 22,
     "metadata": {},
     "output_type": "execute_result"
    }
   ],
   "source": [
    "[(a[\"userHandle\"])\n",
    "     for a in graph.nodes.match(\"User\").limit(3)]"
   ]
  },
  {
   "cell_type": "code",
   "execution_count": null,
   "metadata": {},
   "outputs": [],
   "source": []
  }
 ],
 "metadata": {
  "kernelspec": {
   "display_name": "Python 3",
   "language": "python",
   "name": "python3"
  },
  "language_info": {
   "codemirror_mode": {
    "name": "ipython",
    "version": 3
   },
   "file_extension": ".py",
   "mimetype": "text/x-python",
   "name": "python",
   "nbconvert_exporter": "python",
   "pygments_lexer": "ipython3",
   "version": "3.7.3"
  }
 },
 "nbformat": 4,
 "nbformat_minor": 2
}
