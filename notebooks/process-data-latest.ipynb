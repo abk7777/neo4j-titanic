{
 "cells": [
  {
   "cell_type": "code",
   "execution_count": 1,
   "metadata": {},
   "outputs": [],
   "source": [
    "import os\n",
    "import sys\n",
    "import pandas as pd\n",
    "pd.options.display.max_rows = None  # display all rows\n",
    "pd.options.display.max_columns = None  # display all columns"
   ]
  },
  {
   "cell_type": "code",
   "execution_count": 2,
   "metadata": {},
   "outputs": [],
   "source": [
    "# Set path and import\n",
    "sys.path[0] = '../'\n",
    "data = pd.read_csv(sys.path[0] + 'data/raw/titanic.csv')"
   ]
  },
  {
   "cell_type": "code",
   "execution_count": 3,
   "metadata": {
    "scrolled": false
   },
   "outputs": [],
   "source": [
    "def clean_data(data):\n",
    "\n",
    "    # Calculate total size of family (same surname) including passenger\n",
    "    data['family.size'] = data['sibsp'] + data['parch'] + 1\n",
    "\n",
    "    # Add surname column to easily identify relatives. Neo4j can \n",
    "    # build relationships based on matching surname and family size.\n",
    "    data['surname'] = data['name'].str.split(',', expand=True)[0]\n",
    "    \n",
    "    # Fill NaN values for Cabins\n",
    "    #data['cabin'] = data['cabin'].fillna('Unspecified Cabin')\n",
    "\n",
    "    # Extract deck from cabin number\n",
    "    data['deck'] = data['cabin'].str[:1]\n",
    "    #data['deck'].fillna('Unspecified Deck', inplace=True)\n",
    "    \n",
    "    # Fill incorrect NaN values of embarked with correct values for passengers\n",
    "    data.loc[data['ticket'] == '113572', 'embarked'] = 'S'\n",
    "    \n",
    "    # Replace embarked with location name\n",
    "    embarked = {\"S\": \"Southampton\", \"C\": \"Cherbourg\", \"Q\": \"Queenstown\"}\n",
    "    data['embarked'] = data['embarked'].map(embarked)\n",
    "    \n",
    "    # Replace NaN values with Unknown in destination column\n",
    "    data['home.dest'].fillna(\"Unspecified Destination\", inplace=True)\n",
    "    \n",
    "    return data"
   ]
  },
  {
   "cell_type": "code",
   "execution_count": 1,
   "metadata": {
    "scrolled": true
   },
   "outputs": [],
   "source": [
    "data = clean_data(data)"
   ]
  },
  {
   "cell_type": "code",
   "execution_count": 17,
   "metadata": {},
   "outputs": [],
   "source": [
    "# Save !!! Careful not to overwrite data after lengthy ML steps !!!\n",
    "#data.to_csv('../data/clean/titanic_clean.csv', index=False)"
   ]
  },
  {
   "cell_type": "code",
   "execution_count": null,
   "metadata": {},
   "outputs": [],
   "source": []
  }
 ],
 "metadata": {
  "kernelspec": {
   "display_name": "Python 3",
   "language": "python",
   "name": "python3"
  },
  "language_info": {
   "codemirror_mode": {
    "name": "ipython",
    "version": 3
   },
   "file_extension": ".py",
   "mimetype": "text/x-python",
   "name": "python",
   "nbconvert_exporter": "python",
   "pygments_lexer": "ipython3",
   "version": "3.7.6"
  }
 },
 "nbformat": 4,
 "nbformat_minor": 2
}
